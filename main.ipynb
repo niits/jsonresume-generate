{
 "cells": [
  {
   "cell_type": "code",
   "execution_count": 2,
   "metadata": {},
   "outputs": [],
   "source": [
    "import imp\n",
    "import json\n",
    "from pathlib import Path\n",
    "from tqdm import tqdm"
   ]
  },
  {
   "cell_type": "code",
   "execution_count": 4,
   "metadata": {},
   "outputs": [],
   "source": [
    "paths = list(Path(\"./sample-data/\").glob(\"*.json\"))\n",
    "save_dir = Path(\"resumes\")\n",
    "save_dir.mkdir(exist_ok=True)\n"
   ]
  },
  {
   "cell_type": "code",
   "execution_count": 11,
   "metadata": {},
   "outputs": [
    {
     "name": "stdout",
     "output_type": "stream",
     "text": [
      "{'data': [{'end_date': '01-06-2021',\n",
      "           'institution': 'Academy of Finance, Hanoi, Vietnam',\n",
      "           'major_description': \"Bachelor's degree, Accounting and Finance\",\n",
      "           'start_date': '01-01-2021',\n",
      "           'summary': 'Designed and developed a Capsule based Deep Neural '\n",
      "                      'Network for emotion classification using EEG signals '\n",
      "                      'collected from the brain.'},\n",
      "          {'end_date': '01-10-2021',\n",
      "           'institution': 'Hanoi University',\n",
      "           'major_description': \"Bachelor's degree, Japanese Studies\",\n",
      "           'start_date': '01-07-2021',\n",
      "           'summary': 'Designed and developed a Capsule based Deep Neural '\n",
      "                      'Network for emotion classification using EEG signals '\n",
      "                      'collected from the brain.'}]}\n"
     ]
    }
   ],
   "source": [
    "from pprint import pprint\n",
    "\n",
    "\n",
    "pprint(data['education_information'])"
   ]
  },
  {
   "cell_type": "code",
   "execution_count": 9,
   "metadata": {},
   "outputs": [
    {
     "data": {
      "text/plain": [
       "dict_keys(['applied_position', 'basic_information', 'work_experiences', 'education_information', 'projects', 'awards', 'skills'])"
      ]
     },
     "execution_count": 9,
     "metadata": {},
     "output_type": "execute_result"
    }
   ],
   "source": [
    "data.keys()"
   ]
  },
  {
   "cell_type": "code",
   "execution_count": 23,
   "metadata": {},
   "outputs": [],
   "source": [
    "def make_profile(url: str):\n",
    "    if url is None or len(url.strip()) == 0:\n",
    "        return None\n",
    "    parts = url.replace(\"https://www.\", \"\").replace(\"https://\", \"\").split(\"/\")\n",
    "    if len(parts) >= 2:\n",
    "        return {\n",
    "            \"network\": parts[0],\n",
    "            \"username\": parts[-1],\n",
    "            \"url\": url,\n",
    "        }\n",
    "    else:\n",
    "        return None\n"
   ]
  },
  {
   "cell_type": "code",
   "execution_count": 30,
   "metadata": {},
   "outputs": [
    {
     "name": "stderr",
     "output_type": "stream",
     "text": [
      "100%|██████████| 150/150 [00:00<00:00, 376.95it/s]\n"
     ]
    },
    {
     "ename": "",
     "evalue": "",
     "output_type": "error",
     "traceback": [
      "\u001b[1;31mThe Kernel crashed while executing code in the the current cell or a previous cell. Please review the code in the cell(s) to identify a possible cause of the failure. Click <a href='https://aka.ms/vscodeJupyterKernelCrash'>here</a> for more info. View Jupyter <a href='command:jupyter.viewOutput'>log</a> for further details."
     ]
    }
   ],
   "source": [
    "for path in tqdm(paths):\n",
    "    with open(path, \"r\") as f:\n",
    "        data = json.load(f)\n",
    "\n",
    "    jsonresume_data = {\n",
    "        \"basics\": {\n",
    "            \"name\": data[\"basic_information\"][\"data\"][\"name\"],\n",
    "            \"label\": data[\"applied_position\"],\n",
    "            \"email\": data[\"basic_information\"][\"data\"][\"email\"],\n",
    "            \"phone\": data[\"basic_information\"][\"data\"][\"phone\"],\n",
    "            \"summary\": data[\"basic_information\"][\"data\"][\"summary\"],\n",
    "            \"location\": {\n",
    "                \"address\": data[\"basic_information\"][\"data\"][\"address\"],\n",
    "                \"region\": data[\"basic_information\"][\"data\"][\"city\"],\n",
    "            },\n",
    "            \"profiles\": [\n",
    "                profile\n",
    "                for profile in [\n",
    "                    make_profile(url) for url in data[\"basic_information\"]['data'][\"profiles\"]\n",
    "                ]\n",
    "            ],\n",
    "        },\n",
    "        \"work\": [\n",
    "            {\n",
    "                \"company\": work_experience[\"company\"],\n",
    "                \"position\": work_experience[\"position\"],\n",
    "                \"startDate\": work_experience[\"start_date\"],\n",
    "                \"endDate\": work_experience[\"end_date\"],\n",
    "                \"summary\": work_experience[\"summary\"],\n",
    "            }\n",
    "            for work_experience in data[\"work_experiences\"][\"data\"]\n",
    "        ],\n",
    "        \"education\": [\n",
    "            {\n",
    "                \"institution\": item[\"institution\"],\n",
    "                \"area\": item[\"major_description\"],\n",
    "                \"startDate\": item[\"start_date\"],\n",
    "                \"endDate\": item[\"end_date\"],\n",
    "            }\n",
    "            for item in data[\"education_information\"][\"data\"]\n",
    "        ],\n",
    "        \"awards\": [\n",
    "            {\n",
    "                \"title\": item[\"name\"],\n",
    "                \"summary\": item[\"summary\"],\n",
    "            }\n",
    "            for item in data[\"awards\"][\"data\"]\n",
    "        ],\n",
    "        \"skills\": [\n",
    "            {\n",
    "                \"name\": skill,\n",
    "            } for skill in data['skills']['data']\n",
    "        ],\n",
    "        \"projects\": [\n",
    "            {\n",
    "                \"name\": item[\"name\"],\n",
    "                \"description\": item[\"summary\"] or item[\"description\"],\n",
    "            }\n",
    "            for item in data[\"projects\"][\"data\"]\n",
    "        ],\n",
    "    }\n",
    "    with open(save_dir / path.name, 'w') as f:\n",
    "        json.dump(jsonresume_data, f)\n"
   ]
  }
 ],
 "metadata": {
  "kernelspec": {
   "display_name": "Python 3.8.13 ('gen-data')",
   "language": "python",
   "name": "python3"
  },
  "language_info": {
   "codemirror_mode": {
    "name": "ipython",
    "version": 3
   },
   "file_extension": ".py",
   "mimetype": "text/x-python",
   "name": "python",
   "nbconvert_exporter": "python",
   "pygments_lexer": "ipython3",
   "version": "3.8.13"
  },
  "orig_nbformat": 4,
  "vscode": {
   "interpreter": {
    "hash": "edf6da9ae7254d41f706c8d2ea9e4fba1976335d584ad33e053023704876c569"
   }
  }
 },
 "nbformat": 4,
 "nbformat_minor": 2
}
